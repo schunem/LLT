{
 "cells": [
  {
   "cell_type": "code",
   "execution_count": 2,
   "metadata": {},
   "outputs": [],
   "source": [
    "import uproot4\n",
    "import numpy as np\n",
    "import awkward1 as ak\n",
    "\n",
    "import matplotlib.pyplot as plt\n",
    "%matplotlib inline \n",
    "import seaborn as sns\n",
    "import matplotlib.gridspec as gridspec"
   ]
  },
  {
   "cell_type": "markdown",
   "metadata": {},
   "source": [
    "Configuration"
   ]
  },
  {
   "cell_type": "code",
   "execution_count": 4,
   "metadata": {},
   "outputs": [
    {
     "name": "stdout",
     "output_type": "stream",
     "text": [
      "[[ True False False False]\n",
      " [False False False False]\n",
      " [False False  True False]\n",
      " [False  True False False]\n",
      " [False False False False]\n",
      " [ True False  True False]\n",
      " [False False False False]\n",
      " [ True False False False]]\n",
      "[[False]]\n"
     ]
    }
   ],
   "source": [
    "index_carte_side = 32\n",
    "index_carte_up = 32 \n",
    "index_carte_corner = 0\n",
    "masks_in = np.array( [ True , False, False , False , \n",
    "                       False , False , False , False , \n",
    "                       False , False , True , False , \n",
    "                       False , True , False , False , \n",
    "                       False , False , False , False , \n",
    "                       True , False , True , False , \n",
    "                       False , False , False , False , \n",
    "                       True , False , False , False  \n",
    "                     ])\n",
    "ch_in = np.array( [ 0 , 1, 2 , 3 , \n",
    "                   4 , 5, 6, 7, \n",
    "                   8, 9, 10  ,11, \n",
    "                   12, 13, 14, 15, \n",
    "                   16, 17, 18, 19, \n",
    "                   20, 21, 22, 23, \n",
    "                   24, 25, 26, 27 ,\n",
    "                   28, 29, 30 , 31 \n",
    "                     ])\n",
    "\n",
    "masks_side = np.array( [ False , False , False , False, False, False, False, False])\n",
    "masks_up = np.array( [False , False , False, False ])\n",
    "masks_corner = np.array( [ False ])\n",
    "masks_display = np.reshape(masks_in,(-1,4))\n",
    "print(masks_display)\n",
    "print(np.reshape(masks_corner,(1,1)))"
   ]
  },
  {
   "cell_type": "code",
   "execution_count": 5,
   "metadata": {},
   "outputs": [
    {
     "data": {
      "text/plain": [
       "<mpl_toolkits.axes_grid1.axes_divider.LocatableAxes at 0x7f002a3b4c50>"
      ]
     },
     "execution_count": 5,
     "metadata": {},
     "output_type": "execute_result"
    },
    {
     "data": {
      "image/png": "[encoded data removed]",
      "text/plain": [
       "<Figure size 432x288 with 8 Axes>"
      ]
     },
     "metadata": {},
     "output_type": "display_data"
    }
   ],
   "source": [
    "\n",
    "from mpl_toolkits.axes_grid1 import ImageGrid\n",
    "fig = plt.figure()\n",
    "grid = ImageGrid(fig, 111, nrows_ncols=(2, 2), axes_pad=0.2 )\n",
    "ax1 = grid[0]\n",
    "ax2 = grid[1]\n",
    "ax3 = grid[2]\n",
    "ax4 = grid[3]\n",
    "sns.heatmap(np.reshape(masks_in,(-1,4)),linewidth=1,ax=ax1,square=True,cbar=False,cmap=\"RdYlGn\",xticklabels=False,yticklabels=False,annot=np.reshape(np.arange(len(masks_in)),(-1,4)))\n",
    "sns.heatmap(np.reshape(masks_side,(8,1)),linewidth=1,ax=ax2,square=True,cbar=False,cmap=\"RdYlGn\",xticklabels=False,yticklabels=False,annot=np.reshape(np.arange(len(masks_side)),(8,1)))\n",
    "sns.heatmap(np.reshape(masks_up,(1,4)),linewidth=1,ax=ax3,square=True,cbar=False,cmap=\"RdYlGn\",xticklabels=False,yticklabels=False,annot=np.reshape(np.arange(len(masks_up)),(1,4))) \n",
    "sns.heatmap(np.reshape(masks_corner,(1,1)),linewidth=1,ax=ax4,square=True,cbar=False,vmin=0,vmax=1,cmap=\"RdYlGn\",xticklabels=False,yticklabels=False,annot=np.reshape(np.arange(len(masks_corner)),(1,1)))\n"
   ]
  },
  {
   "cell_type": "code",
   "execution_count": 6,
   "metadata": {},
   "outputs": [],
   "source": [
    "#file = uproot4.open(\"pcie40_20201120_160452_main_calo002_1_run_1470.root:DAQ\")\n",
    "file = uproot4.open(\"pcie40_20210122_102711_main_calo002_1_run_1872.root:DAQ\")"
   ]
  },
  {
   "cell_type": "code",
   "execution_count": 7,
   "metadata": {},
   "outputs": [],
   "source": [
    "llt=file.arrays()"
   ]
  },
  {
   "cell_type": "markdown",
   "metadata": {},
   "source": [
    "Un cluster est: <br>\n",
    "| A B | <br>\n",
    "| C D |"
   ]
  },
  {
   "cell_type": "code",
   "execution_count": 8,
   "metadata": {},
   "outputs": [
    {
     "name": "stdout",
     "output_type": "stream",
     "text": [
      "[[0 0 0 ... 0 0 0]\n",
      " [0 0 0 ... 0 0 0]\n",
      " [0 0 0 ... 0 0 0]\n",
      " ...\n",
      " [4 5 6 ... 5 6 7]\n",
      " [5 6 7 ... 6 7 8]\n",
      " [6 7 8 ... 7 8 9]]\n"
     ]
    }
   ],
   "source": [
    "chs   = ak.to_numpy(llt.ch[:,0:32])\n",
    "print(chs)"
   ]
  },
  {
   "cell_type": "code",
   "execution_count": 7,
   "metadata": {},
   "outputs": [],
   "source": [
    "chs_up = ak.to_numpy(llt.ch[:,index_carte_up:index_carte_up+4])\n",
    "chs_corner = ak.to_numpy(llt.ch[:,index_carte_corner])\n",
    "chs_side = ak.to_numpy(llt.ch[:,index_carte_side:index_carte_side+29:4])"
   ]
  },
  {
   "cell_type": "code",
   "execution_count": 8,
   "metadata": {},
   "outputs": [],
   "source": [
    "chs_A = chs*masks_in"
   ]
  },
  {
   "cell_type": "code",
   "execution_count": 9,
   "metadata": {},
   "outputs": [],
   "source": [
    "chs_B = chs*masks_in\n",
    "chs_B = np.delete(chs_B,np.s_[0:29:4],axis=1)\n",
    "chs_B = np.insert(chs_B,[3,6,9,12,15,18,21,24],chs_side[:,:]*masks_side,axis=1)"
   ]
  },
  {
   "cell_type": "code",
   "execution_count": 10,
   "metadata": {},
   "outputs": [],
   "source": [
    "chs_C = chs*masks_in\n",
    "chs_C = np.delete(chs_C,np.s_[0:4],axis=1)\n",
    "chs_C = np.append(chs_C,chs_up*masks_up,axis=1)"
   ]
  },
  {
   "cell_type": "code",
   "execution_count": 11,
   "metadata": {},
   "outputs": [],
   "source": [
    "chs_D = chs_B\n",
    "chs_D = np.delete(chs_D,np.s_[0:4],axis=1)\n",
    "chs_D = np.append(chs_D,chs_up[:,1:4]*masks_up[1:4],axis=1)\n",
    "chs_D = np.vstack([chs_D.T,chs_corner*masks_corner.T]).T"
   ]
  },
  {
   "cell_type": "code",
   "execution_count": 12,
   "metadata": {},
   "outputs": [],
   "source": [
    "cands = chs_A+chs_B+chs_C+chs_D"
   ]
  },
  {
   "cell_type": "code",
   "execution_count": 14,
   "metadata": {},
   "outputs": [],
   "source": [
    "etmax = np.max(cands,axis=1)\n",
    "add   = np.argmax(cands,axis=1)\n",
    "ettot = np.sum(chs*masks_in,axis=1)\n",
    "threshold = 6\n",
    "mult = np.count_nonzero( chs*masks_in >= threshold , axis = 1 )\n",
    "#np.set_printoptions(threshold=np.inf)\n",
    "#print(mult)\n"
   ]
  },
  {
   "cell_type": "code",
   "execution_count": 15,
   "metadata": {},
   "outputs": [],
   "source": [
    "llt_etmax = ak.to_numpy(llt.etmax[:,0])\n",
    "llt_ettot = ak.to_numpy(llt.ettot[:,0])\n",
    "llt_add   = ak.to_numpy(llt.add[:,0])\n",
    "llt_mult   = ak.to_numpy(llt.mult[:,0])"
   ]
  },
  {
   "cell_type": "code",
   "execution_count": 16,
   "metadata": {},
   "outputs": [
    {
     "data": {
      "text/plain": [
       "[-1, 32, 0, 100000]"
      ]
     },
     "execution_count": 16,
     "metadata": {},
     "output_type": "execute_result"
    },
    {
     "data": {
      "image/png": "[encoded data removed]",
      "text/plain": [
       "<Figure size 1080x576 with 4 Axes>"
      ]
     },
     "metadata": {},
     "output_type": "display_data"
    }
   ],
   "source": [
    "a,((plt1,plt2),(plt3,plt4))=plt.subplots(2,2,figsize=(15,8))\n",
    "plt1.hist(llt_ettot,100)\n",
    "plt1.set_title('LLT ettot')\n",
    "plt2.hist(llt_etmax,100)\n",
    "plt2.set_title('LLT etmax')\n",
    "plt3.hist(llt_mult,100)\n",
    "plt3.set_title('LLT mult')\n",
    "plt4.hist(llt_add,32)\n",
    "plt4.set_title('LLT add')\n",
    "plt4.axis([-1,32,0,100000])"
   ]
  },
  {
   "cell_type": "code",
   "execution_count": 17,
   "metadata": {},
   "outputs": [
    {
     "name": "stdout",
     "output_type": "stream",
     "text": [
      "Number of errors for ETMAX = 0\n",
      "Number of errors for ETTOT = 475\n",
      "Number of errors for ADD   = 0\n",
      "Number of errors for MULTIPLICTY   = 0\n"
     ]
    }
   ],
   "source": [
    "print( \"Number of errors for ETMAX = {0}\".format(np.count_nonzero(llt_etmax != etmax)))\n",
    "print( \"Number of errors for ETTOT = {0}\".format(np.count_nonzero(llt_ettot != ettot)))\n",
    "print( \"Number of errors for ADD   = {0}\".format(np.count_nonzero(llt_add != add)))\n",
    "print( \"Number of errors for MULTIPLICTY   = {0}\".format(np.count_nonzero(llt_mult != mult)))"
   ]
  },
  {
   "cell_type": "code",
   "execution_count": 18,
   "metadata": {},
   "outputs": [
    {
     "name": "stdout",
     "output_type": "stream",
     "text": [
      "Number of events processed = 19981\n",
      "Number of events processed = 19981\n",
      "Fraction of ETMAX error = 0.0\n",
      "Fraction of ETTOT error = 0.02377258395475702\n",
      "Fraction of ADD error = 0.0\n",
      "Fraction of MULT error = 0.0\n"
     ]
    },
    {
     "data": {
      "text/plain": [
       "Text(0.5,1,'Error fraction')"
      ]
     },
     "execution_count": 18,
     "metadata": {},
     "output_type": "execute_result"
    },
    {
     "data": {
      "image/png": "[encoded data removed]",
      "text/plain": [
       "<Figure size 432x288 with 1 Axes>"
      ]
     },
     "metadata": {},
     "output_type": "display_data"
    }
   ],
   "source": [
    "#np.set_printoptions(threshold=np.inf)\n",
    "#print(add)\n",
    "\n",
    "nEvts = llt_etmax.size\n",
    "\n",
    "if (llt_etmax.size != llt_ettot.size) : print( \" problem in processing ETMAX vs ETTOT\")\n",
    "if (llt_etmax.size != llt_add.size) : print( \" problem in processing ETMAX vs ADD\")\n",
    "if (llt_ettot.size != llt_add.size) : print(\"  problem in processing ETTOT vs ADD\")\n",
    "print( \"Number of events processed = {0}\".format(llt_etmax.size))\n",
    "print( \"Number of events processed = {0}\".format(nEvts))\n",
    "fracErr_etmax = np.count_nonzero(llt_etmax != etmax)/nEvts \n",
    "fracErr_ettot = np.count_nonzero(llt_ettot != ettot)/nEvts\n",
    "fracErr_add = np.count_nonzero(llt_add != add)/nEvts\n",
    "fracErr_mult = np.count_nonzero(llt_mult != mult)/nEvts\n",
    "\n",
    "#  MH pour voir quelque chose ... \n",
    "#fracErr_etmax = .1\n",
    "#fracErr_ettot = .5\n",
    "#fracErr_add = .2\n",
    "\n",
    "#--------------------------------\n",
    "print( \"Fraction of ETMAX error = {0}\".format(fracErr_etmax))\n",
    "print( \"Fraction of ETTOT error = {0}\".format(fracErr_ettot))\n",
    "print( \"Fraction of ADD error = {0}\".format(fracErr_add))\n",
    "print( \"Fraction of MULT error = {0}\".format(fracErr_mult))\n",
    "fracErr_type = [\"ETMAX\",\"ETTOT\",\"ADD\",\"MULT\"]\n",
    "fracErr = [fracErr_etmax, fracErr_ettot ,fracErr_add,fracErr_mult]\n",
    "plt.hist(fracErr_type, 10,weights=fracErr)\n",
    "plt.title('Error fraction')\n"
   ]
  },
  {
   "cell_type": "code",
   "execution_count": 18,
   "metadata": {},
   "outputs": [
    {
     "name": "stdout",
     "output_type": "stream",
     "text": [
      "x = \n",
      "[ 5 17  3  0 31]\n",
      "y = \n",
      "[ 1 17  2  3  4]\n",
      "DD = \n",
      "[ 4  0  1 -3 27]\n",
      "AA\n",
      "[ True False  True  True  True]\n",
      "BB\n",
      "[[ 1  5]\n",
      " [ 0 17]\n",
      " [ 1  3]\n",
      " [ 1  0]\n",
      " [ 1 31]]\n",
      "Correct = [1 0 1 1 1], Address = [ 5 17  3  0 31]\n"
     ]
    },
    {
     "data": {
      "text/plain": [
       "(0, 32)"
      ]
     },
     "execution_count": 18,
     "metadata": {},
     "output_type": "execute_result"
    },
    {
     "data": {
      "image/png": "[encoded data removed]",
      "text/plain": [
       "<Figure size 432x288 with 1 Axes>"
      ]
     },
     "metadata": {},
     "output_type": "display_data"
    }
   ],
   "source": [
    "#MH verification \n",
    "x = np.array([5,17,3,0,31])\n",
    "y = np.array([1,17,2,3,4])\n",
    "DD = x - y \n",
    "print (\"x = \")\n",
    "print(x) \n",
    "print (\"y = \")\n",
    "print(y) \n",
    "print (\"DD = \")\n",
    "print(DD)\n",
    "AA = np.logical_not(DD==0)\n",
    "print(\"AA\") \n",
    "print (AA) \n",
    "\n",
    "BB = np.vstack([AA,x]).T\n",
    "print(\"BB\") \n",
    "print (BB) \n",
    "Correct = BB[:,0]\n",
    "Address = BB[:,1]\n",
    "print(f\"Correct = {Correct}, Address = {Address}\")\n",
    "filter = (Correct == 1) \n",
    "plt.hist(Address[filter],32)\n",
    "plt.xlabel(\"Channel\")\n",
    "plt.xlim(0, 32)"
   ]
  },
  {
   "cell_type": "code",
   "execution_count": 19,
   "metadata": {},
   "outputs": [
    {
     "data": {
      "text/plain": [
       "(0, 32)"
      ]
     },
     "execution_count": 19,
     "metadata": {},
     "output_type": "execute_result"
    },
    {
     "data": {
      "image/png": "[encoded data removed]",
      "text/plain": [
       "<Figure size 432x288 with 1 Axes>"
      ]
     },
     "metadata": {},
     "output_type": "display_data"
    }
   ],
   "source": [
    "#Address mismatch  plot \n",
    "\n",
    "DD = llt_add - add\n",
    "# True if different addresses ; False if same. \n",
    "AA = np.logical_not(DD==0)\n",
    "BB = np.vstack([AA,add]).T\n",
    "Correct = BB[:,0]\n",
    "Address = BB[:,1]\n",
    "filter = (Correct == 1) \n",
    "plt.hist(Address[filter],32)\n",
    "plt.title('Addresses mismatch')\n",
    "plt.xlabel(\"Channel\")\n",
    "plt.xlim(0, 32)"
   ]
  },
  {
   "cell_type": "code",
   "execution_count": null,
   "metadata": {},
   "outputs": [],
   "source": []
  },
  {
   "cell_type": "code",
   "execution_count": null,
   "metadata": {},
   "outputs": [],
   "source": [
    "\n"
   ]
  },
  {
   "cell_type": "code",
   "execution_count": null,
   "metadata": {},
   "outputs": [],
   "source": []
  }
 ],
 "metadata": {
  "kernelspec": {
   "display_name": "Python 3",
   "language": "python",
   "name": "python3"
  },
  "language_info": {
   "codemirror_mode": {
    "name": "ipython",
    "version": 3
   },
   "file_extension": ".py",
   "mimetype": "text/x-python",
   "name": "python",
   "nbconvert_exporter": "python",
   "pygments_lexer": "ipython3",
   "version": "3.6.6"
  }
 },
 "nbformat": 4,
 "nbformat_minor": 4
}
