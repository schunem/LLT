{
 "cells": [
  {
   "cell_type": "code",
   "execution_count": 1,
   "metadata": {},
   "outputs": [],
   "source": [
    "import uproot4\n",
    "import numpy as np\n",
    "import awkward1 as ak\n",
    "\n",
    "import matplotlib.pyplot as plt\n",
    "%matplotlib inline \n",
    "import seaborn as sns\n",
    "import matplotlib.gridspec as gridspec"
   ]
  },
  {
   "cell_type": "markdown",
   "metadata": {},
   "source": [
    "Configuration"
   ]
  },
  {
   "cell_type": "code",
   "execution_count": 2,
   "metadata": {},
   "outputs": [],
   "source": [
    "nEvts = 10000\n",
    "etmax = np.empty(nEvts)\n",
    "ettot = np.empty(nEvts)\n",
    "add = np.empty(nEvts)\n",
    "mult= np.empty(nEvts)\n",
    "threshold = 6\n",
    "signalMax = 256\n",
    "plot_voiesOff = np.empty(nEvts)\n",
    "plot_voiesOff_side = np.empty(nEvts)\n",
    "plot_voiesOff_up = np.empty(nEvts)\n",
    "plot_voiesOff_corner = np.empty(nEvts)\n",
    "for ievt in range(nEvts):\n",
    "    if (ievt % 2) == 0 :\n",
    "        signalMax = 256\n",
    "    else :\n",
    "        signalMax = 100    \n",
    "    N_maxVoiesOFF = 32 \n",
    "    # nombre de voies OFF aleatoire\n",
    "    NCH_Off = np.random.randint(0, N_maxVoiesOFF, 1)\n",
    "    # nombre de voies OFF side aleatoire .. on doit rester avec la meme proba que la carte centrale\n",
    "    NCH_Off_side = np.random.randint(0, N_maxVoiesOFF, 1)\n",
    "    # nombre de voies OFF up aleatoire\n",
    "    NCH_Off_up = np.random.randint(0, N_maxVoiesOFF, 1)\n",
    "    # nombre de voies OFF corner aleatoire\n",
    "    NCH_Off_corner = np.random.randint(0, N_maxVoiesOFF, 1)\n",
    "   \n",
    "    #generation des signaux 0 a 31 dans la carte et on stocke dans chs \n",
    "    chs = np.empty(32)\n",
    "    #Tirage de NCH_Off aleatoirement parmi les 32 voies \n",
    "    # attention parfois il y en a des identiques ...   \n",
    "    voiesOff = np.random.randint(0, 32, NCH_Off)\n",
    "    voiesOff.sort()\n",
    "    voiesOff_side = np.random.randint(0, 32, NCH_Off_side)\n",
    "    voiesOff_side.sort()\n",
    "    voiesOff_up = np.random.randint(0, 32, NCH_Off_up)\n",
    "    voiesOff_up.sort()\n",
    "    voiesOff_corner = np.random.randint(0, 32, NCH_Off_corner)\n",
    "    voiesOff_corner.sort()\n",
    " #   print('NCH_Off',NCH_Off)\n",
    " #   print('Voies OFF',voiesOff)\n",
    " #   print('NCH_Off_corner',NCH_Off_corner)\n",
    " #   print('Voies OFF_corner',voiesOff_corner)\n",
    "    i = 0\n",
    "    while i < 32:\n",
    "        chs[i] = np.random.randint(0, signalMax, 1)\n",
    "        for j in voiesOff :\n",
    "            if i == j:\n",
    "                chs[i] = np.random.normal(0, 3, 1)\n",
    "                break\n",
    "        i = i +1\n",
    "    #generation de 0 a 7 : side \n",
    "    chs_side = np.empty(8)\n",
    "    i = 0\n",
    "    while i < 8:\n",
    "        chs_side[i] = np.random.randint(0, signalMax, 1)\n",
    "        for j in voiesOff_side :\n",
    "            if i == j:\n",
    "                chs_side[i] = np.random.normal(0, 3, 1)\n",
    "                break\n",
    "        i = i + 1   \n",
    " \n",
    "    #generation de 0 a 3 top \n",
    "    chs_up = np.empty(4)\n",
    "    i = 0\n",
    "    while i < 4:\n",
    "        chs_up[i] = np.random.randint(0, signalMax, 1)\n",
    "        for j in voiesOff_up :\n",
    "            if i == j:\n",
    "                chs_up[i] = np.random.normal(0, 3, 1)\n",
    "                break\n",
    "        i = i + 1 \n",
    "    #generation 0 corner\n",
    "    chs_corner=np.empty(1) \n",
    "    chs_corner[0] = np.random.randint(0, signalMax, 1)\n",
    "    if NCH_Off_corner > 0 and voiesOff_corner[0] == 0 :\n",
    "        chs_corner[0] = np.random.normal(0, 3, 1)\n",
    "    chs_A = chs\n",
    "    chs_B = chs\n",
    "    chs_B = np.delete(chs_B,np.s_[0:29:4],axis=0)\n",
    "    chs_B = np.insert(chs_B,[3,6,9,12,15,18,21,24],chs_side,axis=0)\n",
    " #   print(np.reshape(chs_B,(-1,4)))\n",
    "    chs_C = chs\n",
    "    chs_C = np.delete(chs_C,np.s_[0:4],axis=0)\n",
    "    chs_C = np.append(chs_C,chs_up,axis=0)\n",
    "    #print(np.reshape(chs_C,(-1,4)))\n",
    "    chs_D = chs_B\n",
    "    chs_D = np.delete(chs_D,np.s_[0:4],axis=0)\n",
    "    chs_D = np.append(chs_D,chs_up[1:4],axis=0)\n",
    "    chs_D = np.append(chs_D,chs_corner,axis=0)\n",
    " #   print(np.reshape(chs_D,(-1,4)))\n",
    "    cands = chs_A+chs_B+chs_C+chs_D\n",
    "    etmax[ievt] = min(1024,np.max(cands,axis=0))\n",
    "    add[ievt]   = np.argmax(cands,axis=0)\n",
    "    ettot[ievt] = min(2047,np.sum(chs,axis=0))\n",
    "    mult[ievt] = np.count_nonzero( chs >= threshold , axis = 0 )\n"
   ]
  },
  {
   "cell_type": "markdown",
   "metadata": {},
   "source": [
    "Un cluster est: <br>\n",
    "| A B | <br>\n",
    "| C D |"
   ]
  },
  {
   "cell_type": "code",
   "execution_count": 3,
   "metadata": {},
   "outputs": [
    {
     "data": {
      "text/plain": [
       "Text(0.5,1,'LLT add')"
      ]
     },
     "execution_count": 3,
     "metadata": {},
     "output_type": "execute_result"
    },
    {
     "data": {
      "image/png": "[encoded data removed]",
      "text/plain": [
       "<Figure size 1080x576 with 4 Axes>"
      ]
     },
     "metadata": {},
     "output_type": "display_data"
    }
   ],
   "source": [
    "a,((plt1,plt2),(plt3,plt4))=plt.subplots(2,2,figsize=(15,8))\n",
    "plt1.hist(ettot,bins=100,range=(0,2048))\n",
    "plt1.set_title('LLT ettot')\n",
    "plt2.hist(etmax,bins=100,range=(0,1024))\n",
    "plt2.set_title('LLT etmax')\n",
    "plt3.hist(mult,100)\n",
    "plt3.set_title('LLT mult')\n",
    "plt4.hist(add,32)\n",
    "plt4.set_title('LLT add')"
   ]
  },
  {
   "cell_type": "code",
   "execution_count": null,
   "metadata": {},
   "outputs": [],
   "source": []
  }
 ],
 "metadata": {
  "kernelspec": {
   "display_name": "Python 3",
   "language": "python",
   "name": "python3"
  },
  "language_info": {
   "codemirror_mode": {
    "name": "ipython",
    "version": 3
   },
   "file_extension": ".py",
   "mimetype": "text/x-python",
   "name": "python",
   "nbconvert_exporter": "python",
   "pygments_lexer": "ipython3",
   "version": "3.6.6"
  }
 },
 "nbformat": 4,
 "nbformat_minor": 4
}
